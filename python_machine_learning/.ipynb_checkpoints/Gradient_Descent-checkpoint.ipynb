{
 "cells": [
  {
   "cell_type": "markdown",
   "metadata": {},
   "source": [
    "+ 다음작업은 Mulitcampus - Data Science 과정에서 가져왔습니다.\n",
    "+ The following code works are from the Data Science lecture at Multicampus."
   ]
  },
  {
   "cell_type": "markdown",
   "metadata": {
    "id": "rERYNixnjUp-"
   },
   "source": [
    "# 경사 하강법(Gradient Descent)"
   ]
  },
  {
   "cell_type": "code",
   "execution_count": 1,
   "metadata": {
    "executionInfo": {
     "elapsed": 788,
     "status": "ok",
     "timestamp": 1629770719736,
     "user": {
      "displayName": "이정구",
      "photoUrl": "https://lh3.googleusercontent.com/a-/AOh14Gg2atzeYT6QYFW3pcTDyi6aX0d6dqm_hj4W8fMg=s64",
      "userId": "17400242557229223804"
     },
     "user_tz": -540
    },
    "id": "RbPgODpVzdHI"
   },
   "outputs": [],
   "source": [
    "import warnings\n",
    "warnings.filterwarnings('ignore')"
   ]
  },
  {
   "cell_type": "markdown",
   "metadata": {
    "id": "97NN5qcXja8D"
   },
   "source": [
    "# I. Machine( ) 정의\n",
    "\n",
    "* numpy Package"
   ]
  },
  {
   "cell_type": "code",
   "execution_count": 2,
   "metadata": {
    "executionInfo": {
     "elapsed": 303,
     "status": "ok",
     "timestamp": 1629770725752,
     "user": {
      "displayName": "이정구",
      "photoUrl": "https://lh3.googleusercontent.com/a-/AOh14Gg2atzeYT6QYFW3pcTDyi6aX0d6dqm_hj4W8fMg=s64",
      "userId": "17400242557229223804"
     },
     "user_tz": -540
    },
    "id": "7WFfR0CMi2gt"
   },
   "outputs": [],
   "source": [
    "import numpy as np"
   ]
  },
  {
   "cell_type": "markdown",
   "metadata": {
    "id": "kx7HH8f9k0BF"
   },
   "source": [
    "* def Machine( )"
   ]
  },
  {
   "cell_type": "code",
   "execution_count": 3,
   "metadata": {
    "executionInfo": {
     "elapsed": 352,
     "status": "ok",
     "timestamp": 1629770731280,
     "user": {
      "displayName": "이정구",
      "photoUrl": "https://lh3.googleusercontent.com/a-/AOh14Gg2atzeYT6QYFW3pcTDyi6aX0d6dqm_hj4W8fMg=s64",
      "userId": "17400242557229223804"
     },
     "user_tz": -540
    },
    "id": "HAcs151Qj_Gl"
   },
   "outputs": [],
   "source": [
    "def Machine(x, w, b):\n",
    "    y_hat = (w * x) + b\n",
    "    return y_hat"
   ]
  },
  {
   "cell_type": "markdown",
   "metadata": {
    "id": "equzYcnpk4t3"
   },
   "source": [
    "* x, w, b 객체 지정"
   ]
  },
  {
   "cell_type": "code",
   "execution_count": 4,
   "metadata": {
    "executionInfo": {
     "elapsed": 302,
     "status": "ok",
     "timestamp": 1629770763035,
     "user": {
      "displayName": "이정구",
      "photoUrl": "https://lh3.googleusercontent.com/a-/AOh14Gg2atzeYT6QYFW3pcTDyi6aX0d6dqm_hj4W8fMg=s64",
      "userId": "17400242557229223804"
     },
     "user_tz": -540
    },
    "id": "H1UOpmfskHrN"
   },
   "outputs": [],
   "source": [
    "x = np.array([1, 3, 5, 7, 9])\n",
    "w = 2\n",
    "b = 1"
   ]
  },
  {
   "cell_type": "markdown",
   "metadata": {
    "id": "iCytCuWFk-kk"
   },
   "source": [
    "* Machine( ) 테스트"
   ]
  },
  {
   "cell_type": "code",
   "execution_count": 5,
   "metadata": {
    "colab": {
     "base_uri": "https://localhost:8080/"
    },
    "executionInfo": {
     "elapsed": 6,
     "status": "ok",
     "timestamp": 1629770766096,
     "user": {
      "displayName": "이정구",
      "photoUrl": "https://lh3.googleusercontent.com/a-/AOh14Gg2atzeYT6QYFW3pcTDyi6aX0d6dqm_hj4W8fMg=s64",
      "userId": "17400242557229223804"
     },
     "user_tz": -540
    },
    "id": "9cL_MPZ_kUZ4",
    "outputId": "00c0a94f-6242-40ec-c7fa-072569545644"
   },
   "outputs": [
    {
     "data": {
      "text/plain": [
       "array([ 3,  7, 11, 15, 19])"
      ]
     },
     "execution_count": 5,
     "metadata": {},
     "output_type": "execute_result"
    }
   ],
   "source": [
    "Machine(x, w, b)"
   ]
  },
  {
   "cell_type": "markdown",
   "metadata": {
    "id": "O_ZlpJPjmDAy"
   },
   "source": [
    "# II. Gradient( ) 정의\n",
    "* def Gradient( )"
   ]
  },
  {
   "cell_type": "code",
   "execution_count": 6,
   "metadata": {
    "executionInfo": {
     "elapsed": 282,
     "status": "ok",
     "timestamp": 1629771071568,
     "user": {
      "displayName": "이정구",
      "photoUrl": "https://lh3.googleusercontent.com/a-/AOh14Gg2atzeYT6QYFW3pcTDyi6aX0d6dqm_hj4W8fMg=s64",
      "userId": "17400242557229223804"
     },
     "user_tz": -540
    },
    "id": "HNgWgaxXmJWN"
   },
   "outputs": [],
   "source": [
    "def Gradient(x, y, w, b):\n",
    "    y_hat = Machine(x, w, b)\n",
    "\n",
    "    dw = np.mean((y - y_hat) * (-2 * x))\n",
    "    db = np.mean((y - y_hat) * (-2))\n",
    "\n",
    "    return dw, db"
   ]
  },
  {
   "cell_type": "markdown",
   "metadata": {
    "id": "obtq3GHvAlP3"
   },
   "source": [
    "* Gradient( ) 테스트"
   ]
  },
  {
   "cell_type": "code",
   "execution_count": 7,
   "metadata": {
    "executionInfo": {
     "elapsed": 257,
     "status": "ok",
     "timestamp": 1629771112447,
     "user": {
      "displayName": "이정구",
      "photoUrl": "https://lh3.googleusercontent.com/a-/AOh14Gg2atzeYT6QYFW3pcTDyi6aX0d6dqm_hj4W8fMg=s64",
      "userId": "17400242557229223804"
     },
     "user_tz": -540
    },
    "id": "dopNJxl_mmmC"
   },
   "outputs": [],
   "source": [
    "y = np.array([2, 4, 6, 8, 10])\n",
    "\n",
    "dw, db = Gradient(x, y, w, b)"
   ]
  },
  {
   "cell_type": "code",
   "execution_count": 8,
   "metadata": {
    "colab": {
     "base_uri": "https://localhost:8080/"
    },
    "executionInfo": {
     "elapsed": 272,
     "status": "ok",
     "timestamp": 1629771119042,
     "user": {
      "displayName": "이정구",
      "photoUrl": "https://lh3.googleusercontent.com/a-/AOh14Gg2atzeYT6QYFW3pcTDyi6aX0d6dqm_hj4W8fMg=s64",
      "userId": "17400242557229223804"
     },
     "user_tz": -540
    },
    "id": "4TuBqxL5ms0y",
    "outputId": "6538b1bf-d2f8-485b-9add-cbb95e11e089"
   },
   "outputs": [
    {
     "name": "stdout",
     "output_type": "stream",
     "text": [
      "dw is  66.0\n",
      "db is  10.0\n"
     ]
    }
   ],
   "source": [
    "print('dw is ', dw)\n",
    "print('db is ', db)"
   ]
  },
  {
   "cell_type": "markdown",
   "metadata": {
    "id": "kriXMDHXnNtH"
   },
   "source": [
    "# III. Learning( ) 정의\n",
    "* def Learning( )"
   ]
  },
  {
   "cell_type": "code",
   "execution_count": 9,
   "metadata": {
    "executionInfo": {
     "elapsed": 253,
     "status": "ok",
     "timestamp": 1629771255774,
     "user": {
      "displayName": "이정구",
      "photoUrl": "https://lh3.googleusercontent.com/a-/AOh14Gg2atzeYT6QYFW3pcTDyi6aX0d6dqm_hj4W8fMg=s64",
      "userId": "17400242557229223804"
     },
     "user_tz": -540
    },
    "id": "32gIDBJUnStp"
   },
   "outputs": [],
   "source": [
    "def Learning(x, y, w, b, step):\n",
    "    dw, db = Gradient(x, y, w, b)\n",
    "    \n",
    "    uw = w - step * dw\n",
    "    ub = b - step * db\n",
    "    \n",
    "    return uw, ub"
   ]
  },
  {
   "cell_type": "markdown",
   "metadata": {
    "id": "YpD9p4GABAfc"
   },
   "source": [
    "* Learning( ) 테스트"
   ]
  },
  {
   "cell_type": "code",
   "execution_count": 10,
   "metadata": {
    "executionInfo": {
     "elapsed": 259,
     "status": "ok",
     "timestamp": 1629771263989,
     "user": {
      "displayName": "이정구",
      "photoUrl": "https://lh3.googleusercontent.com/a-/AOh14Gg2atzeYT6QYFW3pcTDyi6aX0d6dqm_hj4W8fMg=s64",
      "userId": "17400242557229223804"
     },
     "user_tz": -540
    },
    "id": "0fYKLNx-n8Uf"
   },
   "outputs": [],
   "source": [
    "step = 0.05\n",
    "\n",
    "uw, ub = Learning(x, y, w, b, step)"
   ]
  },
  {
   "cell_type": "code",
   "execution_count": 11,
   "metadata": {
    "colab": {
     "base_uri": "https://localhost:8080/"
    },
    "executionInfo": {
     "elapsed": 281,
     "status": "ok",
     "timestamp": 1629771266752,
     "user": {
      "displayName": "이정구",
      "photoUrl": "https://lh3.googleusercontent.com/a-/AOh14Gg2atzeYT6QYFW3pcTDyi6aX0d6dqm_hj4W8fMg=s64",
      "userId": "17400242557229223804"
     },
     "user_tz": -540
    },
    "id": "07aKd6fAoBj_",
    "outputId": "6e0f0af4-006a-447a-ae30-3b4c58b0329d"
   },
   "outputs": [
    {
     "name": "stdout",
     "output_type": "stream",
     "text": [
      "Updated_w is  -1.300\n",
      "Updated_b is  0.500\n"
     ]
    }
   ],
   "source": [
    "print('Updated_w is ', '%.3f' % uw)\n",
    "print('Updated_b is ', '%.3f' % ub)"
   ]
  },
  {
   "cell_type": "markdown",
   "metadata": {
    "id": "LAllev0opPwz"
   },
   "source": [
    "# IV. testData.csv에 적용"
   ]
  },
  {
   "cell_type": "markdown",
   "metadata": {
    "id": "b9uLbsksBGhn"
   },
   "source": [
    "* pandas & matplotlib Packages"
   ]
  },
  {
   "cell_type": "code",
   "execution_count": 12,
   "metadata": {
    "executionInfo": {
     "elapsed": 258,
     "status": "ok",
     "timestamp": 1629771419975,
     "user": {
      "displayName": "이정구",
      "photoUrl": "https://lh3.googleusercontent.com/a-/AOh14Gg2atzeYT6QYFW3pcTDyi6aX0d6dqm_hj4W8fMg=s64",
      "userId": "17400242557229223804"
     },
     "user_tz": -540
    },
    "id": "tredQulNofEn"
   },
   "outputs": [],
   "source": [
    "import pandas as pd\n",
    "import matplotlib.pyplot as plt"
   ]
  },
  {
   "cell_type": "markdown",
   "metadata": {
    "id": "lpj334qxBP0b"
   },
   "source": [
    "* Read testData.csv"
   ]
  },
  {
   "cell_type": "code",
   "execution_count": 13,
   "metadata": {
    "executionInfo": {
     "elapsed": 301,
     "status": "ok",
     "timestamp": 1629771446884,
     "user": {
      "displayName": "이정구",
      "photoUrl": "https://lh3.googleusercontent.com/a-/AOh14Gg2atzeYT6QYFW3pcTDyi6aX0d6dqm_hj4W8fMg=s64",
      "userId": "17400242557229223804"
     },
     "user_tz": -540
    },
    "id": "zSKfJXZjoIP_"
   },
   "outputs": [],
   "source": [
    "url = 'https://raw.githubusercontent.com/rusita-ai/pyData/master/testData.csv'\n",
    "\n",
    "DATA = pd.read_csv(url)"
   ]
  },
  {
   "cell_type": "markdown",
   "metadata": {
    "id": "bJpHDWwMBdNO"
   },
   "source": [
    "* testData.csv Information"
   ]
  },
  {
   "cell_type": "code",
   "execution_count": 14,
   "metadata": {
    "colab": {
     "base_uri": "https://localhost:8080/"
    },
    "executionInfo": {
     "elapsed": 254,
     "status": "ok",
     "timestamp": 1629771452457,
     "user": {
      "displayName": "이정구",
      "photoUrl": "https://lh3.googleusercontent.com/a-/AOh14Gg2atzeYT6QYFW3pcTDyi6aX0d6dqm_hj4W8fMg=s64",
      "userId": "17400242557229223804"
     },
     "user_tz": -540
    },
    "id": "QZdbN293qIvF",
    "outputId": "f69ca778-89de-4e1f-a4d7-482541b93ac8"
   },
   "outputs": [
    {
     "name": "stdout",
     "output_type": "stream",
     "text": [
      "<class 'pandas.core.frame.DataFrame'>\n",
      "RangeIndex: 5000 entries, 0 to 4999\n",
      "Data columns (total 2 columns):\n",
      " #   Column   Non-Null Count  Dtype  \n",
      "---  ------   --------------  -----  \n",
      " 0   inputs   5000 non-null   float64\n",
      " 1   outputs  5000 non-null   float64\n",
      "dtypes: float64(2)\n",
      "memory usage: 78.2 KB\n"
     ]
    }
   ],
   "source": [
    "DATA.info()"
   ]
  },
  {
   "cell_type": "code",
   "execution_count": 15,
   "metadata": {
    "colab": {
     "base_uri": "https://localhost:8080/",
     "height": 203
    },
    "executionInfo": {
     "elapsed": 260,
     "status": "ok",
     "timestamp": 1629771483885,
     "user": {
      "displayName": "이정구",
      "photoUrl": "https://lh3.googleusercontent.com/a-/AOh14Gg2atzeYT6QYFW3pcTDyi6aX0d6dqm_hj4W8fMg=s64",
      "userId": "17400242557229223804"
     },
     "user_tz": -540
    },
    "id": "Et-rtH7gqQqO",
    "outputId": "fa650188-d959-45db-82fa-ca1895a7b1ed"
   },
   "outputs": [
    {
     "data": {
      "text/html": [
       "<div>\n",
       "<style scoped>\n",
       "    .dataframe tbody tr th:only-of-type {\n",
       "        vertical-align: middle;\n",
       "    }\n",
       "\n",
       "    .dataframe tbody tr th {\n",
       "        vertical-align: top;\n",
       "    }\n",
       "\n",
       "    .dataframe thead th {\n",
       "        text-align: right;\n",
       "    }\n",
       "</style>\n",
       "<table border=\"1\" class=\"dataframe\">\n",
       "  <thead>\n",
       "    <tr style=\"text-align: right;\">\n",
       "      <th></th>\n",
       "      <th>inputs</th>\n",
       "      <th>outputs</th>\n",
       "    </tr>\n",
       "  </thead>\n",
       "  <tbody>\n",
       "    <tr>\n",
       "      <th>0</th>\n",
       "      <td>0.2362</td>\n",
       "      <td>0.162367</td>\n",
       "    </tr>\n",
       "    <tr>\n",
       "      <th>1</th>\n",
       "      <td>0.9415</td>\n",
       "      <td>0.479356</td>\n",
       "    </tr>\n",
       "    <tr>\n",
       "      <th>2</th>\n",
       "      <td>0.3495</td>\n",
       "      <td>0.095733</td>\n",
       "    </tr>\n",
       "    <tr>\n",
       "      <th>3</th>\n",
       "      <td>0.3200</td>\n",
       "      <td>-0.111783</td>\n",
       "    </tr>\n",
       "    <tr>\n",
       "      <th>4</th>\n",
       "      <td>0.8335</td>\n",
       "      <td>0.386012</td>\n",
       "    </tr>\n",
       "  </tbody>\n",
       "</table>\n",
       "</div>"
      ],
      "text/plain": [
       "   inputs   outputs\n",
       "0  0.2362  0.162367\n",
       "1  0.9415  0.479356\n",
       "2  0.3495  0.095733\n",
       "3  0.3200 -0.111783\n",
       "4  0.8335  0.386012"
      ]
     },
     "execution_count": 15,
     "metadata": {},
     "output_type": "execute_result"
    }
   ],
   "source": [
    "DATA.head()"
   ]
  },
  {
   "cell_type": "markdown",
   "metadata": {
    "id": "EN0shyiHBlhx"
   },
   "source": [
    "* testData.csv Visualization\n",
    " - Distribution"
   ]
  },
  {
   "cell_type": "code",
   "execution_count": 16,
   "metadata": {
    "colab": {
     "base_uri": "https://localhost:8080/",
     "height": 265
    },
    "executionInfo": {
     "elapsed": 889,
     "status": "ok",
     "timestamp": 1629771522309,
     "user": {
      "displayName": "이정구",
      "photoUrl": "https://lh3.googleusercontent.com/a-/AOh14Gg2atzeYT6QYFW3pcTDyi6aX0d6dqm_hj4W8fMg=s64",
      "userId": "17400242557229223804"
     },
     "user_tz": -540
    },
    "id": "t-wCkffoqMVV",
    "outputId": "8b188b3f-a51c-4d03-edbb-323e435c1513"
   },
   "outputs": [
    {
     "data": {
      "image/png": "[encoded data removed]",
      "text/plain": [
       "<Figure size 432x288 with 1 Axes>"
      ]
     },
     "metadata": {
      "needs_background": "light"
     },
     "output_type": "display_data"
    }
   ],
   "source": [
    "plt.scatter(DATA.inputs, DATA.outputs, s = 0.5)\n",
    "plt.show()"
   ]
  },
  {
   "cell_type": "markdown",
   "metadata": {
    "id": "xfAS4CXCBtCx"
   },
   "source": [
    "* 1500번 학습 실행"
   ]
  },
  {
   "cell_type": "code",
   "execution_count": 36,
   "metadata": {
    "executionInfo": {
     "elapsed": 228,
     "status": "ok",
     "timestamp": 1629771877147,
     "user": {
      "displayName": "이정구",
      "photoUrl": "https://lh3.googleusercontent.com/a-/AOh14Gg2atzeYT6QYFW3pcTDyi6aX0d6dqm_hj4W8fMg=s64",
      "userId": "17400242557229223804"
     },
     "user_tz": -540
    },
    "id": "X4qyJ6RuqrGb"
   },
   "outputs": [],
   "source": [
    "w = 2\n",
    "b = 3\n",
    "step = 0.05 "
   ]
  },
  {
   "cell_type": "code",
   "execution_count": 37,
   "metadata": {
    "executionInfo": {
     "elapsed": 2446,
     "status": "ok",
     "timestamp": 1629771881160,
     "user": {
      "displayName": "이정구",
      "photoUrl": "https://lh3.googleusercontent.com/a-/AOh14Gg2atzeYT6QYFW3pcTDyi6aX0d6dqm_hj4W8fMg=s64",
      "userId": "17400242557229223804"
     },
     "user_tz": -540
    },
    "id": "h7qxksCvq_N3"
   },
   "outputs": [],
   "source": [
    "for i in range(0, 1500):\n",
    "    uw, ub = Learning(DATA.inputs, DATA.outputs, w, b, step)\n",
    "    w = uw\n",
    "    b = ub"
   ]
  },
  {
   "cell_type": "code",
   "execution_count": 38,
   "metadata": {
    "colab": {
     "base_uri": "https://localhost:8080/"
    },
    "executionInfo": {
     "elapsed": 25,
     "status": "ok",
     "timestamp": 1629771881161,
     "user": {
      "displayName": "이정구",
      "photoUrl": "https://lh3.googleusercontent.com/a-/AOh14Gg2atzeYT6QYFW3pcTDyi6aX0d6dqm_hj4W8fMg=s64",
      "userId": "17400242557229223804"
     },
     "user_tz": -540
    },
    "id": "t-mbdSworeDl",
    "outputId": "462a08f1-a73f-41e6-87a5-50436d9ac6ab"
   },
   "outputs": [
    {
     "name": "stdout",
     "output_type": "stream",
     "text": [
      "Learned_w is  0.505\n",
      "Learned_b is  -0.170\n"
     ]
    }
   ],
   "source": [
    "print('Learned_w is ', '%.3f' % w)\n",
    "print('Learned_b is ', '%.3f' % b)"
   ]
  },
  {
   "cell_type": "markdown",
   "metadata": {
    "id": "EpDFjtOeB540"
   },
   "source": [
    "* 학습결과 회귀선 그리기"
   ]
  },
  {
   "cell_type": "code",
   "execution_count": 39,
   "metadata": {
    "colab": {
     "base_uri": "https://localhost:8080/",
     "height": 265
    },
    "executionInfo": {
     "elapsed": 459,
     "status": "ok",
     "timestamp": 1629771883569,
     "user": {
      "displayName": "이정구",
      "photoUrl": "https://lh3.googleusercontent.com/a-/AOh14Gg2atzeYT6QYFW3pcTDyi6aX0d6dqm_hj4W8fMg=s64",
      "userId": "17400242557229223804"
     },
     "user_tz": -540
    },
    "id": "IeL7N6tlr9bD",
    "outputId": "a9e77235-c19f-45ee-9276-090bb12dc138"
   },
   "outputs": [
    {
     "data": {
      "image/png": "[encoded data removed]",
      "text/plain": [
       "<Figure size 432x288 with 1 Axes>"
      ]
     },
     "metadata": {
      "needs_background": "light"
     },
     "output_type": "display_data"
    }
   ],
   "source": [
    "X = np.linspace(0, 1, 100)\n",
    "Y = (w * X) + b\n",
    "\n",
    "plt.scatter(DATA.inputs, DATA.outputs, s = 0.3)\n",
    "plt.plot(X, Y, '-r', linewidth = 1.5)\n",
    "plt.show()"
   ]
  },
  {
   "cell_type": "markdown",
   "metadata": {
    "id": "gTVY6EO5-Um2"
   },
   "source": [
    "# V. Loss Visualization"
   ]
  },
  {
   "cell_type": "markdown",
   "metadata": {
    "id": "gfnPOnzACTul"
   },
   "source": [
    "* Gradient( )에 Loss 추가"
   ]
  },
  {
   "cell_type": "code",
   "execution_count": 40,
   "metadata": {
    "executionInfo": {
     "elapsed": 264,
     "status": "ok",
     "timestamp": 1629772137296,
     "user": {
      "displayName": "이정구",
      "photoUrl": "https://lh3.googleusercontent.com/a-/AOh14Gg2atzeYT6QYFW3pcTDyi6aX0d6dqm_hj4W8fMg=s64",
      "userId": "17400242557229223804"
     },
     "user_tz": -540
    },
    "id": "G0auOOt0-Gig"
   },
   "outputs": [],
   "source": [
    "def Gradient(x, y, w, b):\n",
    "    y_hat = Machine(x, w, b)\n",
    "    \n",
    "    dw = np.mean((y - y_hat) * (-2 * x))\n",
    "    db = np.mean((y - y_hat) * (-2))\n",
    "    Loss = np.mean((y - y_hat)**2)\n",
    "\n",
    "    return dw, db, Loss"
   ]
  },
  {
   "cell_type": "markdown",
   "metadata": {
    "id": "FCqfJNAoCZeC"
   },
   "source": [
    "* Learning( )에 Loss 추가"
   ]
  },
  {
   "cell_type": "code",
   "execution_count": 41,
   "metadata": {
    "executionInfo": {
     "elapsed": 306,
     "status": "ok",
     "timestamp": 1629772147738,
     "user": {
      "displayName": "이정구",
      "photoUrl": "https://lh3.googleusercontent.com/a-/AOh14Gg2atzeYT6QYFW3pcTDyi6aX0d6dqm_hj4W8fMg=s64",
      "userId": "17400242557229223804"
     },
     "user_tz": -540
    },
    "id": "tDz_UQmp-gjz"
   },
   "outputs": [],
   "source": [
    "def Learning(x, y, w, b, step):\n",
    "    dw, db, Loss = Gradient(x, y, w, b)\n",
    "    \n",
    "    uw = w - step * dw\n",
    "    ub = b - step * db\n",
    "    \n",
    "    Loss = Loss\n",
    "\n",
    "    return uw, ub, Loss"
   ]
  },
  {
   "cell_type": "markdown",
   "metadata": {
    "id": "KYzdb906CePg"
   },
   "source": [
    "* 1500번 학습 실행"
   ]
  },
  {
   "cell_type": "code",
   "execution_count": 62,
   "metadata": {
    "executionInfo": {
     "elapsed": 254,
     "status": "ok",
     "timestamp": 1629772590613,
     "user": {
      "displayName": "이정구",
      "photoUrl": "https://lh3.googleusercontent.com/a-/AOh14Gg2atzeYT6QYFW3pcTDyi6aX0d6dqm_hj4W8fMg=s64",
      "userId": "17400242557229223804"
     },
     "user_tz": -540
    },
    "id": "CxYtxjkU-2Zd"
   },
   "outputs": [],
   "source": [
    "w = 2\n",
    "b = 3\n",
    "step = 0.001\n",
    "Error = []"
   ]
  },
  {
   "cell_type": "code",
   "execution_count": 63,
   "metadata": {
    "executionInfo": {
     "elapsed": 2503,
     "status": "ok",
     "timestamp": 1629772594309,
     "user": {
      "displayName": "이정구",
      "photoUrl": "https://lh3.googleusercontent.com/a-/AOh14Gg2atzeYT6QYFW3pcTDyi6aX0d6dqm_hj4W8fMg=s64",
      "userId": "17400242557229223804"
     },
     "user_tz": -540
    },
    "id": "DFikAENA-6-x"
   },
   "outputs": [],
   "source": [
    "for i in range(0, 1500):\n",
    "    uw, ub, Loss = Learning(DATA.inputs, DATA.outputs, w, b, step)\n",
    "\n",
    "    w = uw\n",
    "    b = ub\n",
    "    Error.append(Loss)"
   ]
  },
  {
   "cell_type": "markdown",
   "metadata": {
    "id": "qtSDqgjkCich"
   },
   "source": [
    "* Loss 감소 확인"
   ]
  },
  {
   "cell_type": "code",
   "execution_count": 64,
   "metadata": {
    "colab": {
     "base_uri": "https://localhost:8080/"
    },
    "executionInfo": {
     "elapsed": 9,
     "status": "ok",
     "timestamp": 1629772594310,
     "user": {
      "displayName": "이정구",
      "photoUrl": "https://lh3.googleusercontent.com/a-/AOh14Gg2atzeYT6QYFW3pcTDyi6aX0d6dqm_hj4W8fMg=s64",
      "userId": "17400242557229223804"
     },
     "user_tz": -540
    },
    "id": "fMr6RhmW_fEs",
    "outputId": "7281e179-9f83-43f7-d6cb-321550026ed1"
   },
   "outputs": [
    {
     "data": {
      "text/plain": [
       "[15.595575679087696,\n",
       " 15.516493615452518,\n",
       " 15.437813155278901,\n",
       " 15.359532259084617,\n",
       " 15.28164889774523,\n",
       " 15.204161052440144,\n",
       " 15.127066714601533,\n",
       " 15.050363885861731,\n",
       " 14.97405057800144,\n",
       " 14.898124812898125]"
      ]
     },
     "execution_count": 64,
     "metadata": {},
     "output_type": "execute_result"
    }
   ],
   "source": [
    "Error[0:10]"
   ]
  },
  {
   "cell_type": "code",
   "execution_count": 65,
   "metadata": {
    "colab": {
     "base_uri": "https://localhost:8080/",
     "height": 265
    },
    "executionInfo": {
     "elapsed": 405,
     "status": "ok",
     "timestamp": 1629772594708,
     "user": {
      "displayName": "이정구",
      "photoUrl": "https://lh3.googleusercontent.com/a-/AOh14Gg2atzeYT6QYFW3pcTDyi6aX0d6dqm_hj4W8fMg=s64",
      "userId": "17400242557229223804"
     },
     "user_tz": -540
    },
    "id": "HfaDtvIA_alg",
    "outputId": "d2cedb2a-06f2-4f2c-85c4-e4392a4d6349"
   },
   "outputs": [
    {
     "data": {
      "image/png": "[encoded data removed]",
      "text/plain": [
       "<Figure size 432x288 with 1 Axes>"
      ]
     },
     "metadata": {
      "needs_background": "light"
     },
     "output_type": "display_data"
    }
   ],
   "source": [
    "plt.plot(Error)\n",
    "plt.show()"
   ]
  },
  {
   "cell_type": "code",
   "execution_count": 66,
   "metadata": {
    "colab": {
     "base_uri": "https://localhost:8080/",
     "height": 265
    },
    "executionInfo": {
     "elapsed": 322,
     "status": "ok",
     "timestamp": 1629772595025,
     "user": {
      "displayName": "이정구",
      "photoUrl": "https://lh3.googleusercontent.com/a-/AOh14Gg2atzeYT6QYFW3pcTDyi6aX0d6dqm_hj4W8fMg=s64",
      "userId": "17400242557229223804"
     },
     "user_tz": -540
    },
    "id": "mklIss1h_qPr",
    "outputId": "fd355c02-63c2-41aa-91a4-4c2c3e33a1e4"
   },
   "outputs": [
    {
     "data": {
      "image/png": "[encoded data removed]",
      "text/plain": [
       "<Figure size 432x288 with 1 Axes>"
      ]
     },
     "metadata": {
      "needs_background": "light"
     },
     "output_type": "display_data"
    }
   ],
   "source": [
    "plt.plot(Error[0:50], '.')\n",
    "plt.show()"
   ]
  },
  {
   "cell_type": "code",
   "execution_count": 67,
   "metadata": {
    "colab": {
     "base_uri": "https://localhost:8080/",
     "height": 265
    },
    "executionInfo": {
     "elapsed": 5,
     "status": "ok",
     "timestamp": 1629772595639,
     "user": {
      "displayName": "이정구",
      "photoUrl": "https://lh3.googleusercontent.com/a-/AOh14Gg2atzeYT6QYFW3pcTDyi6aX0d6dqm_hj4W8fMg=s64",
      "userId": "17400242557229223804"
     },
     "user_tz": -540
    },
    "id": "xkQIZK5T_2Jp",
    "outputId": "5f630683-90aa-4322-dd6d-a951cc500e14"
   },
   "outputs": [
    {
     "data": {
      "image/png": "[encoded data removed]",
      "text/plain": [
       "<Figure size 432x288 with 1 Axes>"
      ]
     },
     "metadata": {
      "needs_background": "light"
     },
     "output_type": "display_data"
    }
   ],
   "source": [
    "plt.plot(Error[1450:1500], '.')\n",
    "plt.show()"
   ]
  },
  {
   "cell_type": "markdown",
   "metadata": {
    "id": "DGERC1cNvZXJ"
   },
   "source": [
    "# \n",
    "# \n",
    "# \n",
    "# The End\n",
    "# \n",
    "# \n",
    "# "
   ]
  }
 ],
 "metadata": {
  "colab": {
   "collapsed_sections": [],
   "name": "Gradient_Descent.ipynb",
   "provenance": []
  },
  "kernelspec": {
   "display_name": "Python 3 (ipykernel)",
   "language": "python",
   "name": "python3"
  },
  "language_info": {
   "codemirror_mode": {
    "name": "ipython",
    "version": 3
   },
   "file_extension": ".py",
   "mimetype": "text/x-python",
   "name": "python",
   "nbconvert_exporter": "python",
   "pygments_lexer": "ipython3",
   "version": "3.9.7"
  },
  "toc": {
   "base_numbering": 1,
   "nav_menu": {},
   "number_sections": true,
   "sideBar": true,
   "skip_h1_title": false,
   "title_cell": "Table of Contents",
   "title_sidebar": "Contents",
   "toc_cell": false,
   "toc_position": {},
   "toc_section_display": true,
   "toc_window_display": false
  }
 },
 "nbformat": 4,
 "nbformat_minor": 1
}
